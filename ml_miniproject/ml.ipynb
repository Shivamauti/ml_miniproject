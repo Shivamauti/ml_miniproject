{
 "cells": [
  {
   "cell_type": "code",
   "execution_count": 1,
   "metadata": {},
   "outputs": [],
   "source": [
    "elements = 8\n",
    "POPULATION_SIZE = 15\n",
    "MIXING_NUMBER = 2\n",
    "MUTATION_RATE = 0.05"
   ]
  },
  {
   "cell_type": "code",
   "execution_count": 2,
   "metadata": {},
   "outputs": [],
   "source": [
    "def fitness_score(seq):\n",
    "    score = 0\n",
    "\n",
    "    for row in range(elements):\n",
    "        col = seq[row]\n",
    "\n",
    "        for other_row in range(elements):\n",
    "\n",
    "            \n",
    "            if other_row == row:\n",
    "                continue\n",
    "            if seq[other_row] == col:\n",
    "                continue\n",
    "            if other_row + seq[other_row] == row + col:\n",
    "                continue\n",
    "            if other_row - seq[other_row] == row - col:\n",
    "                continue\n",
    "            \n",
    "            score += 1\n",
    "\n",
    "    \n",
    "    return score/2"
   ]
  },
  {
   "cell_type": "code",
   "execution_count": 4,
   "metadata": {},
   "outputs": [
    {
     "ename": "ModuleNotFoundError",
     "evalue": "No module named 'scipy'",
     "output_type": "error",
     "traceback": [
      "\u001b[1;31m---------------------------------------------------------------------------\u001b[0m",
      "\u001b[1;31mModuleNotFoundError\u001b[0m                       Traceback (most recent call last)",
      "Cell \u001b[1;32mIn[4], line 2\u001b[0m\n\u001b[0;32m      1\u001b[0m \u001b[39mimport\u001b[39;00m \u001b[39mrandom\u001b[39;00m\n\u001b[1;32m----> 2\u001b[0m \u001b[39mfrom\u001b[39;00m \u001b[39mscipy\u001b[39;00m \u001b[39mimport\u001b[39;00m special \u001b[39mas\u001b[39;00m sc\n\u001b[0;32m      4\u001b[0m \u001b[39mdef\u001b[39;00m \u001b[39mselection\u001b[39m(population):\n\u001b[0;32m      5\u001b[0m     parents \u001b[39m=\u001b[39m []\n",
      "\u001b[1;31mModuleNotFoundError\u001b[0m: No module named 'scipy'"
     ]
    }
   ],
   "source": [
    "import random\n",
    "from scipy import special as sc\n",
    "\n",
    "def selection(population):\n",
    "    parents = []\n",
    "\n",
    "    for ind in population:\n",
    "        \n",
    "        if random.randrange(sc.comb(elements, 2)*2) < fitness_score(ind):\n",
    "            parents.append(ind)\n",
    "\n",
    "\n",
    "    return parents"
   ]
  },
  {
   "cell_type": "code",
   "execution_count": null,
   "metadata": {},
   "outputs": [],
   "source": [
    "import itertools\n",
    "\n",
    "def crossover(parents):\n",
    "\n",
    "    \n",
    "    cross_points = random.sample(range(elements), MIXING_NUMBER - 1)\n",
    "    offsprings = []\n",
    "\n",
    "    \n",
    "    permutations = list(itertools.permutations(parents, MIXING_NUMBER))\n",
    "\n",
    "    for perm in permutations:\n",
    "        offspring = []\n",
    "\n",
    "        \n",
    "        start_pt = 0\n",
    "\n",
    "        for parent_idx, cross_point in enumerate(cross_points):\n",
    "\n",
    "            \n",
    "            parent_part = perm[parent_idx][start_pt:cross_point]\n",
    "            offspring.append(parent_part)\n",
    "\n",
    "            \n",
    "            start_pt = cross_point\n",
    "\n",
    "        \n",
    "        last_parent = perm[-1]\n",
    "        parent_part = last_parent[cross_point:]\n",
    "        offspring.append(parent_part)\n",
    "\n",
    "        \n",
    "        offsprings.append(list(itertools.chain(*offspring)))\n",
    "\n",
    "    return offsprings"
   ]
  },
  {
   "cell_type": "code",
   "execution_count": null,
   "metadata": {},
   "outputs": [],
   "source": [
    "def mutate(seq):\n",
    "    for row in range(len(seq)):\n",
    "        if random.random() < MUTATION_RATE:\n",
    "            seq[row] = random.randrange(elements)\n",
    " \n",
    "    return seq"
   ]
  },
  {
   "cell_type": "code",
   "execution_count": null,
   "metadata": {},
   "outputs": [],
   "source": [
    "def print_found_goal(population, to_print=True):\n",
    "    for ind in population:\n",
    "        score = fitness_score(ind)\n",
    "        if to_print:\n",
    "            print(f'{ind}. Score: {score}')\n",
    "        if score == sc.comb(elements, 2):\n",
    "            if to_print:\n",
    "                print('Solution found')\n",
    "            return True\n",
    "\n",
    "    if to_print:\n",
    "        print('Solution not found')\n",
    "    return False"
   ]
  },
  {
   "cell_type": "code",
   "execution_count": null,
   "metadata": {},
   "outputs": [],
   "source": [
    "def evolution(population):\n",
    "    \n",
    "    parents = selection(population)\n",
    "\n",
    "    \n",
    "    offsprings = crossover(parents)\n",
    "\n",
    "    \n",
    "    offsprings = list(map(mutate, offsprings))\n",
    "\n",
    "    \n",
    "    new_gen = offsprings\n",
    "\n",
    "    for ind in population:\n",
    "        new_gen.append(ind)\n",
    "\n",
    "    new_gen = sorted(new_gen, key=lambda ind: fitness_score(ind), reverse=True)[:POPULATION_SIZE]\n",
    "\n",
    "    return new_gen"
   ]
  },
  {
   "cell_type": "code",
   "execution_count": null,
   "metadata": {},
   "outputs": [],
   "source": [
    "def generate_population():\n",
    "    population = []\n",
    "\n",
    "    for individual in range(POPULATION_SIZE):\n",
    "        new = [random.randrange(elements) for idx in range(elements)]\n",
    "        population.append(new)\n",
    "\n",
    "    return population"
   ]
  },
  {
   "cell_type": "code",
   "execution_count": null,
   "metadata": {},
   "outputs": [],
   "source": [
    "generation = 0\n",
    "\n",
    "\n",
    "population = generate_population()\n",
    "\n",
    "while not print_found_goal(population):\n",
    "    print(f'Generation: {generation}')\n",
    "    print_found_goal(population)\n",
    "    population = evolution(population)\n",
    "    generation += 1"
   ]
  },
  {
   "cell_type": "code",
   "execution_count": null,
   "metadata": {},
   "outputs": [],
   "source": [
    "import numpy as np\n",
    "\n",
    "\n",
    "total_sum = []\n",
    "for i in range(10000):\n",
    "    population = generate_population()\n",
    "    for score in list(map(fitness_score, population)):\n",
    "        total_sum.append(score)\n",
    "print(f'Mean: {np.mean(total_sum)}')\n",
    "print(f'St. dev: {np.std(total_sum)}')"
   ]
  },
  {
   "cell_type": "code",
   "execution_count": null,
   "metadata": {},
   "outputs": [],
   "source": [
    "gens = []\n",
    "for run in range(200):\n",
    "    generation = 0\n",
    "    population = generate_population()\n",
    "    print(f'Run: {run}')\n",
    "    while not print_found_goal(population, to_print=False):\n",
    "        population = evolution(population)\n",
    "        generation += 1\n",
    "\n",
    "    gens.append(generation)\n",
    "\n",
    "print(f'Mean: {np.mean(gens)}')\n",
    "print(f'St. dev: {np.std(gens)}')"
   ]
  },
  {
   "cell_type": "code",
   "execution_count": null,
   "metadata": {},
   "outputs": [],
   "source": [
    "print(f'Min: {min(gens)}')\n",
    "print(f'Max: {max(gens)}')"
   ]
  },
  {
   "cell_type": "code",
   "execution_count": null,
   "metadata": {},
   "outputs": [],
   "source": [
    "print('Stats from E1-E3')\n",
    "print(f'Min: {min(gens[50:150])}')\n",
    "print(f'Max: {max(gens[50:150])}')\n",
    "print(f'Mean: {np.mean(gens[50:150])}')\n",
    "print(f'St. dev: {np.std(gens[50:150])}')"
   ]
  },
  {
   "cell_type": "code",
   "execution_count": null,
   "metadata": {},
   "outputs": [],
   "source": [
    "def reject_outliers(data, m = 2.):\n",
    "    d = np.abs(data - np.median(data))\n",
    "    mdev = np.median(d)\n",
    "    s = d/mdev if mdev else 0.\n",
    "    return data[s<m]\n",
    "\n",
    "no_outliers = reject_outliers(np.array(gens))\n",
    "\n",
    "print('Removed Outliers')\n",
    "print(f'Min: {min(no_outliers)}')\n",
    "print(f'Max: {max(no_outliers)}')\n",
    "print(f'Mean: {np.mean(no_outliers)}')\n",
    "print(f'St. dev: {np.std(no_outliers)}')"
   ]
  },
  {
   "cell_type": "code",
   "execution_count": null,
   "metadata": {},
   "outputs": [],
   "source": [
    "import matplotlib.pyplot as plt\n",
    "import seaborn as sns\n",
    "\n",
    "y = no_outliers\n",
    "\n",
    "sns.set()\n",
    "plt.hist(y, bins=np.arange(0, max(no_outliers), 20))\n",
    "plt.xlabel('Generations to reach solution', fontsize=16)\n",
    "plt.ylabel('Count', fontsize=20)\n",
    "plt.title('Distribution of Number of Generations to reach solution with a Genetic Algorithm (Outliers removed)', fontsize=33)\n",
    "plt.rcParams[\"figure.figsize\"] = (20,10)\n",
    "plt.xticks(size = 15)\n",
    "plt.yticks(size = 15)\n",
    "plt.axvline(x=np.mean(no_outliers), label='Mean', ls='--')\n",
    "plt.show()"
   ]
  }
 ],
 "metadata": {
  "kernelspec": {
   "display_name": "Python 3",
   "language": "python",
   "name": "python3"
  },
  "language_info": {
   "codemirror_mode": {
    "name": "ipython",
    "version": 3
   },
   "file_extension": ".py",
   "mimetype": "text/x-python",
   "name": "python",
   "nbconvert_exporter": "python",
   "pygments_lexer": "ipython3",
   "version": "3.11.0"
  },
  "orig_nbformat": 4
 },
 "nbformat": 4,
 "nbformat_minor": 2
}
